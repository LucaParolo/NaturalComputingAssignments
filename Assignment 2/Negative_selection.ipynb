{
 "cells": [
  {
   "cell_type": "markdown",
   "metadata": {},
   "source": [
    "We open the english.train as a txt file "
   ]
  },
  {
   "cell_type": "code",
   "execution_count": 368,
   "metadata": {
    "collapsed": true
   },
   "outputs": [],
   "source": [
    "thymus1=[]\n",
    "with open(\"english_train.txt\",'r') as f:\n",
    "    for string in f:\n",
    "        thymus1.append(string)"
   ]
  },
  {
   "cell_type": "markdown",
   "metadata": {},
   "source": [
    "We remove the \\n character from each string"
   ]
  },
  {
   "cell_type": "code",
   "execution_count": 369,
   "metadata": {
    "collapsed": true
   },
   "outputs": [],
   "source": [
    "thymus=[]\n",
    "for string in thymus1:\n",
    "    word=\"\"\n",
    "    for letter in string:\n",
    "        if letter !=\"\\n\":\n",
    "            word=word+letter\n",
    "    thymus.append(word)         "
   ]
  },
  {
   "cell_type": "markdown",
   "metadata": {},
   "source": [
    "We count the occurrence of letter in the train file so the probability are given accordingly when we build the random strings (possibleTcells)"
   ]
  },
  {
   "cell_type": "code",
   "execution_count": 372,
   "metadata": {
    "collapsed": true
   },
   "outputs": [],
   "source": [
    "mergedTrainFile=\"\"\n",
    "for string in thymus:\n",
    "    mergedTrainFile=mergedTrainFile+string"
   ]
  },
  {
   "cell_type": "code",
   "execution_count": 373,
   "metadata": {},
   "outputs": [],
   "source": [
    "import collections\n",
    "for string in thymus:\n",
    "    results = collections.Counter(mergedTrainFile)"
   ]
  },
  {
   "cell_type": "code",
   "execution_count": null,
   "metadata": {
    "collapsed": true
   },
   "outputs": [],
   "source": [
    "###I'm finishign this part"
   ]
  },
  {
   "cell_type": "markdown",
   "metadata": {},
   "source": [
    "We make an alphabet from which to build random strings, which are the candidate T cells that have to be checked with the strings in the thymus list. The alphabet is built based in the letters present in the file"
   ]
  },
  {
   "cell_type": "code",
   "execution_count": 351,
   "metadata": {
    "collapsed": true
   },
   "outputs": [],
   "source": [
    "import numpy as np\n",
    "import string\n",
    "alphabet=[]\n",
    "for string in thymus:\n",
    "    for letter in string:\n",
    "        if letter not in alphabet:\n",
    "            alphabet.append(letter)"
   ]
  },
  {
   "cell_type": "markdown",
   "metadata": {},
   "source": [
    "\n",
    "import collections\n",
    "results = collections.Counter(\"dqdwqfwqfggqwq\")"
   ]
  },
  {
   "cell_type": "markdown",
   "metadata": {},
   "source": [
    "We build a function that makes strings of random characters taken from the alphabet list. Takes 2 arguments: n=number of strings to be made, and l length of each string"
   ]
  },
  {
   "cell_type": "code",
   "execution_count": 352,
   "metadata": {
    "collapsed": true
   },
   "outputs": [],
   "source": [
    "def makePossibleTcells(n,l):\n",
    "    ##n=number of possible T cells to be made\n",
    "    ##l=number of character in each cell\n",
    "    \n",
    "    possible_T_cells=[]\n",
    "    \n",
    "    for x in range(0,n):\n",
    "        new_T_cell=\"\"\n",
    "        for a in range(0,l):\n",
    "            letter=np.random.choice(alphabet,replace=True)\n",
    "            new_T_cell=new_T_cell+letter\n",
    "        possible_T_cells.append(new_T_cell)\n",
    "        \n",
    "    return possible_T_cells"
   ]
  },
  {
   "cell_type": "markdown",
   "metadata": {},
   "source": [
    "Then we make a function which checks if there is any correspondence between each string and the english_train string. It uses a contiguous approach,this means that checks for substring of length r in the english string. It also takes two other arguments, n and l which are passed to the function makePossibleTcells(n,l). To print relevant info set pass parameter verbose=True"
   ]
  },
  {
   "cell_type": "code",
   "execution_count": 353,
   "metadata": {},
   "outputs": [],
   "source": [
    "def NegativeSelectionContiguous(n,l,r,verbose=bool):\n",
    "    \n",
    "    ##n=number of possible T cells to be made\n",
    "    ##l=number of character in each cell\n",
    "    ##r=lenght of the chunk to check for correspondence\n",
    "\n",
    "    ##two lists that are returned at the end. the list with the discarded cells and the one with the survivors\n",
    "    final_T_cells=[]\n",
    "    discarded_T_cells=[]\n",
    "    \n",
    "    ##Make a copy of thymus list\n",
    "    T=list(thymus)\n",
    "    ##We make a list of possible Tcells\n",
    "    possible_T_cells=makePossibleTcells(n,l)\n",
    "\n",
    "    for i in range (0,len(possible_T_cells)):\n",
    "        \n",
    "        #We take a candidate T cell\n",
    "        Tcell=possible_T_cells[i]\n",
    "        if (verbose==True):\n",
    "            print(\"Tcell is now:\",Tcell,\"\\n\")\n",
    "        \n",
    "        ##and we check it with every string in T\n",
    "        correspondence=False\n",
    "        for i in range(0,len(T)):\n",
    "            start=0\n",
    "            end=r\n",
    "            \n",
    "            for a in range(0,len(T[i])-r+1):\n",
    "                \n",
    "                if (correspondence==False):\n",
    "                    \n",
    "                        if (Tcell[start:end] in T[i] and correspondence==False):\n",
    "                            correspondence=True\n",
    "                            \n",
    "                            if (verbose==True):\n",
    "                                print(\"     correspndence\",Tcell[start:end] ,\"in\",T[i] )\n",
    "                                \n",
    "                        if (correspondence==False):\n",
    "                            end=end+1\n",
    "                            start=start+1\n",
    "                            \n",
    "        if (correspondence==True):\n",
    "            discarded_T_cells.append(Tcell)\n",
    "            \n",
    "            if (verbose==True):\n",
    "                print(\"     the word\",Tcell,\" has correspondence\\n\")\n",
    "        else:\n",
    "            final_T_cells.append(Tcell)  \n",
    "            \n",
    "    return discarded_T_cells,final_T_cells\n"
   ]
  },
  {
   "cell_type": "code",
   "execution_count": 354,
   "metadata": {},
   "outputs": [
    {
     "ename": "ValueError",
     "evalue": "a must be non-empty",
     "output_type": "error",
     "traceback": [
      "\u001b[1;31m---------------------------------------------------------------------------\u001b[0m",
      "\u001b[1;31mValueError\u001b[0m                                Traceback (most recent call last)",
      "\u001b[1;32m<ipython-input-354-438c621127be>\u001b[0m in \u001b[0;36m<module>\u001b[1;34m()\u001b[0m\n\u001b[1;32m----> 1\u001b[1;33m \u001b[0mself\u001b[0m\u001b[1;33m,\u001b[0m\u001b[0mnon_self\u001b[0m\u001b[1;33m=\u001b[0m\u001b[0mNegativeSelectionContiguous\u001b[0m\u001b[1;33m(\u001b[0m\u001b[1;36m1000\u001b[0m\u001b[1;33m,\u001b[0m\u001b[1;36m10\u001b[0m\u001b[1;33m,\u001b[0m\u001b[1;36m3\u001b[0m\u001b[1;33m,\u001b[0m\u001b[1;32mTrue\u001b[0m\u001b[1;33m)\u001b[0m\u001b[1;33m\u001b[0m\u001b[0m\n\u001b[0m",
      "\u001b[1;32m<ipython-input-353-c0946c36de0d>\u001b[0m in \u001b[0;36mNegativeSelectionContiguous\u001b[1;34m(n, l, r, verbose)\u001b[0m\n\u001b[0;32m     12\u001b[0m     \u001b[0mT\u001b[0m\u001b[1;33m=\u001b[0m\u001b[0mlist\u001b[0m\u001b[1;33m(\u001b[0m\u001b[0mthymus\u001b[0m\u001b[1;33m)\u001b[0m\u001b[1;33m\u001b[0m\u001b[0m\n\u001b[0;32m     13\u001b[0m     \u001b[1;31m##We make a list of possible Tcells\u001b[0m\u001b[1;33m\u001b[0m\u001b[1;33m\u001b[0m\u001b[0m\n\u001b[1;32m---> 14\u001b[1;33m     \u001b[0mpossible_T_cells\u001b[0m\u001b[1;33m=\u001b[0m\u001b[0mmakePossibleTcells\u001b[0m\u001b[1;33m(\u001b[0m\u001b[0mn\u001b[0m\u001b[1;33m,\u001b[0m\u001b[0ml\u001b[0m\u001b[1;33m)\u001b[0m\u001b[1;33m\u001b[0m\u001b[0m\n\u001b[0m\u001b[0;32m     15\u001b[0m \u001b[1;33m\u001b[0m\u001b[0m\n\u001b[0;32m     16\u001b[0m     \u001b[1;32mfor\u001b[0m \u001b[0mi\u001b[0m \u001b[1;32min\u001b[0m \u001b[0mrange\u001b[0m \u001b[1;33m(\u001b[0m\u001b[1;36m0\u001b[0m\u001b[1;33m,\u001b[0m\u001b[0mlen\u001b[0m\u001b[1;33m(\u001b[0m\u001b[0mpossible_T_cells\u001b[0m\u001b[1;33m)\u001b[0m\u001b[1;33m)\u001b[0m\u001b[1;33m:\u001b[0m\u001b[1;33m\u001b[0m\u001b[0m\n",
      "\u001b[1;32m<ipython-input-352-d163d06f2edf>\u001b[0m in \u001b[0;36mmakePossibleTcells\u001b[1;34m(n, l)\u001b[0m\n\u001b[0;32m      8\u001b[0m         \u001b[0mnew_T_cell\u001b[0m\u001b[1;33m=\u001b[0m\u001b[1;34m\"\"\u001b[0m\u001b[1;33m\u001b[0m\u001b[0m\n\u001b[0;32m      9\u001b[0m         \u001b[1;32mfor\u001b[0m \u001b[0ma\u001b[0m \u001b[1;32min\u001b[0m \u001b[0mrange\u001b[0m\u001b[1;33m(\u001b[0m\u001b[1;36m0\u001b[0m\u001b[1;33m,\u001b[0m\u001b[0ml\u001b[0m\u001b[1;33m)\u001b[0m\u001b[1;33m:\u001b[0m\u001b[1;33m\u001b[0m\u001b[0m\n\u001b[1;32m---> 10\u001b[1;33m             \u001b[0mletter\u001b[0m\u001b[1;33m=\u001b[0m\u001b[0mnp\u001b[0m\u001b[1;33m.\u001b[0m\u001b[0mrandom\u001b[0m\u001b[1;33m.\u001b[0m\u001b[0mchoice\u001b[0m\u001b[1;33m(\u001b[0m\u001b[0malphabet\u001b[0m\u001b[1;33m,\u001b[0m\u001b[0mreplace\u001b[0m\u001b[1;33m=\u001b[0m\u001b[1;32mTrue\u001b[0m\u001b[1;33m)\u001b[0m\u001b[1;33m\u001b[0m\u001b[0m\n\u001b[0m\u001b[0;32m     11\u001b[0m             \u001b[0mnew_T_cell\u001b[0m\u001b[1;33m=\u001b[0m\u001b[0mnew_T_cell\u001b[0m\u001b[1;33m+\u001b[0m\u001b[0mletter\u001b[0m\u001b[1;33m\u001b[0m\u001b[0m\n\u001b[0;32m     12\u001b[0m         \u001b[0mpossible_T_cells\u001b[0m\u001b[1;33m.\u001b[0m\u001b[0mappend\u001b[0m\u001b[1;33m(\u001b[0m\u001b[0mnew_T_cell\u001b[0m\u001b[1;33m)\u001b[0m\u001b[1;33m\u001b[0m\u001b[0m\n",
      "\u001b[1;32mmtrand.pyx\u001b[0m in \u001b[0;36mmtrand.RandomState.choice\u001b[1;34m()\u001b[0m\n",
      "\u001b[1;31mValueError\u001b[0m: a must be non-empty"
     ]
    }
   ],
   "source": [
    "self,non_self=NegativeSelectionContiguous(1000,10,3,True)"
   ]
  },
  {
   "cell_type": "markdown",
   "metadata": {
    "collapsed": true
   },
   "source": [
    "Now we have trained our model and we have a list of cells that should be able to understand  that contains the survivors. Now we can test how well it discriminates different languages.\n",
    "Firstly we test it with English"
   ]
  },
  {
   "cell_type": "code",
   "execution_count": 345,
   "metadata": {
    "collapsed": true
   },
   "outputs": [],
   "source": [
    "english_test1=[]\n",
    "with open(\"english_test.txt\",'r') as f:\n",
    "    for string in f:\n",
    "        english_test1.append(string)"
   ]
  },
  {
   "cell_type": "code",
   "execution_count": 346,
   "metadata": {
    "collapsed": true
   },
   "outputs": [],
   "source": [
    "english_test=[]\n",
    "for string in english_test1:\n",
    "    word=\"\"\n",
    "    for letter in string:\n",
    "        if letter !=\"\\n\":\n",
    "            word=word+letter\n",
    "    english_test.append(word)"
   ]
  },
  {
   "cell_type": "markdown",
   "metadata": {},
   "source": [
    "We can test if the algorithm is able to define"
   ]
  }
 ],
 "metadata": {
  "kernelspec": {
   "display_name": "Python 3",
   "language": "python",
   "name": "python3"
  },
  "language_info": {
   "codemirror_mode": {
    "name": "ipython",
    "version": 3
   },
   "file_extension": ".py",
   "mimetype": "text/x-python",
   "name": "python",
   "nbconvert_exporter": "python",
   "pygments_lexer": "ipython3",
   "version": "3.6.1"
  }
 },
 "nbformat": 4,
 "nbformat_minor": 2
}
