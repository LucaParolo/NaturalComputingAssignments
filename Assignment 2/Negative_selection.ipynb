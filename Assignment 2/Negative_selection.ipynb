{
 "cells": [
  {
   "cell_type": "markdown",
   "metadata": {},
   "source": [
    "We open the english.train as a txt file "
   ]
  },
  {
   "cell_type": "code",
   "execution_count": 471,
   "metadata": {
    "collapsed": true
   },
   "outputs": [],
   "source": [
    "thymus1=[]\n",
    "with open(\"english_train.txt\",'r') as f:\n",
    "    for string in f:\n",
    "        thymus1.append(string)"
   ]
  },
  {
   "cell_type": "markdown",
   "metadata": {},
   "source": [
    "We remove the \\n character from each string"
   ]
  },
  {
   "cell_type": "code",
   "execution_count": 472,
   "metadata": {
    "collapsed": true
   },
   "outputs": [],
   "source": [
    "thymus=[]\n",
    "for string in thymus1:\n",
    "    word=\"\"\n",
    "    for letter in string:\n",
    "        if letter !=\"\\n\":\n",
    "            word=word+letter\n",
    "    thymus.append(word)         "
   ]
  },
  {
   "cell_type": "markdown",
   "metadata": {},
   "source": [
    "We count the occurrence of letter in the train file so the probability are given accordingly when we build the random strings (possibleTcells)"
   ]
  },
  {
   "cell_type": "code",
   "execution_count": 473,
   "metadata": {
    "collapsed": true
   },
   "outputs": [],
   "source": [
    "mergedTrainFile=\"\"\n",
    "for string in thymus:\n",
    "    mergedTrainFile=mergedTrainFile+string"
   ]
  },
  {
   "cell_type": "code",
   "execution_count": null,
   "metadata": {
    "collapsed": true
   },
   "outputs": [],
   "source": []
  },
  {
   "cell_type": "code",
   "execution_count": 474,
   "metadata": {},
   "outputs": [],
   "source": [
    "import collections\n",
    "for string in thymus:\n",
    "    results = collections.Counter(mergedTrainFile)"
   ]
  },
  {
   "cell_type": "code",
   "execution_count": 475,
   "metadata": {},
   "outputs": [
    {
     "data": {
      "text/plain": [
       "751"
      ]
     },
     "execution_count": 475,
     "metadata": {},
     "output_type": "execute_result"
    }
   ],
   "source": [
    "results[\"_\"]"
   ]
  },
  {
   "cell_type": "code",
   "execution_count": 476,
   "metadata": {},
   "outputs": [
    {
     "name": "stdout",
     "output_type": "stream",
     "text": [
      "4030\n"
     ]
    }
   ],
   "source": [
    "total_letters=0\n",
    "for keys , value in results.items():\n",
    "    total_letters=total_letters+value\n",
    "print(total_letters)"
   ]
  },
  {
   "cell_type": "markdown",
   "metadata": {},
   "source": [
    "We update the values with probabilities that we will use later"
   ]
  },
  {
   "cell_type": "code",
   "execution_count": 477,
   "metadata": {},
   "outputs": [],
   "source": [
    "for keys , value in results.items():\n",
    "    results[keys] = value/total_letters"
   ]
  },
  {
   "cell_type": "markdown",
   "metadata": {},
   "source": [
    "We make a function that assign a letter based on the given probability "
   ]
  },
  {
   "cell_type": "code",
   "execution_count": 486,
   "metadata": {},
   "outputs": [],
   "source": [
    "def random_pick(dictionary):\n",
    "    \n",
    "    letters, probs = zip(*dictionary.items())\n",
    "    x = random.uniform(0, 1)\n",
    "    cumulative_probability = 0.0\n",
    "    for item, item_probability in zip(letters, probs):\n",
    "        cumulative_probability += item_probability\n",
    "        if x < cumulative_probability: break\n",
    "    return item"
   ]
  },
  {
   "cell_type": "markdown",
   "metadata": {},
   "source": [
    "We build a function that makes strings of random characters taken from the alphabet list. Takes 2 arguments: n=number of strings to be made, and l length of each string"
   ]
  },
  {
   "cell_type": "code",
   "execution_count": 487,
   "metadata": {
    "collapsed": true
   },
   "outputs": [],
   "source": [
    "def makePossibleTcells(n,l,dictionary):\n",
    "    ##n=number of possible T cells to be made\n",
    "    ##l=number of character in each cell\n",
    "    \n",
    "    possible_T_cells=[]\n",
    "    \n",
    "    for x in range(0,n):\n",
    "        new_T_cell=\"\"\n",
    "        for a in range(0,l):\n",
    "            \n",
    "            letter=random_pick(dictionary)\n",
    "            new_T_cell=new_T_cell+letter\n",
    "        possible_T_cells.append(new_T_cell)\n",
    "        \n",
    "    return possible_T_cells"
   ]
  },
  {
   "cell_type": "markdown",
   "metadata": {},
   "source": [
    "Then we make a function which checks if there is any correspondence between each string and the english_train string. It uses a contiguous approach,this means that checks for substring of length r in the english string. It also takes two other arguments, n and l which are passed to the function makePossibleTcells(n,l). To print relevant info set pass parameter verbose=True"
   ]
  },
  {
   "cell_type": "code",
   "execution_count": 489,
   "metadata": {},
   "outputs": [],
   "source": [
    "def NegativeSelectionContiguous(n,l,r,verbose=bool):\n",
    "    \n",
    "    ##n=number of possible T cells to be made\n",
    "    ##l=number of character in each cell\n",
    "    ##r=lenght of the chunk to check for correspondence\n",
    "\n",
    "    ##two lists that are returned at the end. the list with the discarded cells and the one with the survivors\n",
    "    final_T_cells=[]\n",
    "    discarded_T_cells=[]\n",
    "    \n",
    "    ##Make a copy of thymus list\n",
    "    T=list(thymus)\n",
    "    ##We make a list of possible Tcells\n",
    "    possible_T_cells=makePossibleTcells(n,l,results)\n",
    "\n",
    "    for i in range (0,len(possible_T_cells)):\n",
    "        \n",
    "        #We take a candidate T cell\n",
    "        Tcell=possible_T_cells[i]\n",
    "        if (verbose==True):\n",
    "            print(\"Tcell is now:\",Tcell,\"\\n\")\n",
    "        \n",
    "        ##and we check it with every string in T\n",
    "        correspondence=False\n",
    "        for i in range(0,len(T)):\n",
    "            start=0\n",
    "            end=r\n",
    "            \n",
    "            for a in range(0,len(T[i])-r+1):\n",
    "                \n",
    "                if (correspondence==False):\n",
    "                    \n",
    "                        if (Tcell[start:end] in T[i] and correspondence==False):\n",
    "                            correspondence=True\n",
    "                            \n",
    "                            if (verbose==True):\n",
    "                                print(\"     correspndence\",Tcell[start:end] ,\"in\",T[i] )\n",
    "                                \n",
    "                        if (correspondence==False):\n",
    "                            end=end+1\n",
    "                            start=start+1\n",
    "                            \n",
    "        if (correspondence==True):\n",
    "            discarded_T_cells.append(Tcell)\n",
    "            \n",
    "            if (verbose==True):\n",
    "                print(\"     the word\",Tcell,\" has correspondence\\n\")\n",
    "        else:\n",
    "            final_T_cells.append(Tcell)  \n",
    "            \n",
    "    return discarded_T_cells,final_T_cells\n"
   ]
  },
  {
   "cell_type": "code",
   "execution_count": 490,
   "metadata": {},
   "outputs": [],
   "source": [
    "self,non_self=NegativeSelectionContiguous(1000,10,3,False)"
   ]
  },
  {
   "cell_type": "markdown",
   "metadata": {
    "collapsed": true
   },
   "source": [
    "Now we have trained our model and we have a list of cells that should be able to understand  that contains the survivors. Now we can test how well it discriminates different languages.\n",
    "Firstly we test it with English"
   ]
  },
  {
   "cell_type": "code",
   "execution_count": 493,
   "metadata": {
    "collapsed": true
   },
   "outputs": [],
   "source": [
    "english_test1=[]\n",
    "with open(\"english_test.txt\",'r') as f:\n",
    "    for string in f:\n",
    "        english_test1.append(string)"
   ]
  },
  {
   "cell_type": "code",
   "execution_count": 494,
   "metadata": {
    "collapsed": true
   },
   "outputs": [],
   "source": [
    "english_test=[]\n",
    "for string in english_test1:\n",
    "    word=\"\"\n",
    "    for letter in string:\n",
    "        if letter !=\"\\n\":\n",
    "            word=word+letter\n",
    "    english_test.append(word)"
   ]
  },
  {
   "cell_type": "markdown",
   "metadata": {},
   "source": [
    "We can test if the algorithm is able to differentiate a bit the difference between english and tagalog. We can use the same function we made (NegativeSelectionContiguous) , but using the self list of strings and checking correspondence in english"
   ]
  },
  {
   "cell_type": "code",
   "execution_count": 505,
   "metadata": {},
   "outputs": [],
   "source": [
    "def countCorrespondence(r,testing_language,verbose=bool):\n",
    "    \n",
    "    ##n=number of possible T cells to be made\n",
    "    ##l=number of character in each cell\n",
    "    ##r=lenght of the chunk to check for correspondence\n",
    "\n",
    "    ##two lists that are returned at the end. the list with the discarded cells and the one with the survivors\n",
    "    matching=[]\n",
    "    no_matching=[]\n",
    "    \n",
    "    ##Make a copy of the self \n",
    "    T=list(self)\n",
    "    ##We make a list of possible Tcells\n",
    "    testing_language_copy=list(testing_language)\n",
    "\n",
    "    for i in range (0,len(english_test)):\n",
    "        \n",
    "        #We take a candidate T cell\n",
    "        strig=testing_language_copy[i]\n",
    "        if (verbose==True):\n",
    "            print(\"Tcell is now:\",strig,\"\\n\")\n",
    "        \n",
    "        ##and we check it with every string in T\n",
    "        correspondence=False\n",
    "        for i in range(0,len(T)):\n",
    "            start=0\n",
    "            end=r\n",
    "            \n",
    "            for a in range(0,len(T[i])-r+1):\n",
    "                \n",
    "                if (correspondence==False):\n",
    "                    \n",
    "                        if (strig[start:end] in T[i] and correspondence==False):\n",
    "                            correspondence=True\n",
    "\n",
    "                            if (verbose==True):\n",
    "                                print(\"     correspndence\",strig[start:end] ,\"in\",T[i] )\n",
    "                                \n",
    "                        if (correspondence==False):\n",
    "                            end=end+1\n",
    "                            start=start+1\n",
    "                            \n",
    "        if (correspondence==True):\n",
    "            matching.append(strig)\n",
    "            \n",
    "            if (verbose==True):\n",
    "                print(\"     the word\",strig,\" has correspondence\\n\")\n",
    "        else:\n",
    "            no_matching.append(strig)  \n",
    "            \n",
    "    return matching,no_matching\n"
   ]
  },
  {
   "cell_type": "code",
   "execution_count": 506,
   "metadata": {},
   "outputs": [],
   "source": [
    "matching,no_matching=countCorrespondence(4,english_test,False)"
   ]
  },
  {
   "cell_type": "code",
   "execution_count": 508,
   "metadata": {},
   "outputs": [
    {
     "name": "stdout",
     "output_type": "stream",
     "text": [
      "75\n"
     ]
    }
   ],
   "source": [
    "print (len(matching))"
   ]
  },
  {
   "cell_type": "markdown",
   "metadata": {},
   "source": [
    "Now we can test the same function with another language"
   ]
  },
  {
   "cell_type": "code",
   "execution_count": null,
   "metadata": {
    "collapsed": true
   },
   "outputs": [],
   "source": [
    "english_test1=[]\n",
    "with open(\"english_test.txt\",'r') as f:\n",
    "    for string in f:\n",
    "        english_test1.append(string)\n",
    "        \n",
    "english_test=[]\n",
    "for string in english_test1:\n",
    "    word=\"\"\n",
    "    for letter in string:\n",
    "        if letter !=\"\\n\":\n",
    "            word=word+letter\n",
    "    english_test.append(word)"
   ]
  },
  {
   "cell_type": "code",
   "execution_count": null,
   "metadata": {
    "collapsed": true
   },
   "outputs": [],
   "source": []
  }
 ],
 "metadata": {
  "kernelspec": {
   "display_name": "Python 3",
   "language": "python",
   "name": "python3"
  },
  "language_info": {
   "codemirror_mode": {
    "name": "ipython",
    "version": 3
   },
   "file_extension": ".py",
   "mimetype": "text/x-python",
   "name": "python",
   "nbconvert_exporter": "python",
   "pygments_lexer": "ipython3",
   "version": "3.6.1"
  }
 },
 "nbformat": 4,
 "nbformat_minor": 2
}
