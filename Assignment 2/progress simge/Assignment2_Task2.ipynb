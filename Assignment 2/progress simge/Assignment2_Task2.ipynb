{
 "cells": [
  {
   "cell_type": "code",
   "execution_count": 254,
   "metadata": {},
   "outputs": [],
   "source": [
    "import pandas as pd\n",
    "import math"
   ]
  },
  {
   "cell_type": "code",
   "execution_count": 255,
   "metadata": {},
   "outputs": [],
   "source": [
    "train= open(\"nd-cert-train.txt\",\"w+\")\n",
    "test1= open(\"nd-cert-test1.txt\",\"w+\")\n",
    "label1= open(\"nd-cert-label1.txt\",\"w+\")"
   ]
  },
  {
   "cell_type": "code",
   "execution_count": 256,
   "metadata": {},
   "outputs": [],
   "source": [
    "data = pd.read_csv(\"snd-cert.train\", header=None)"
   ]
  },
  {
   "cell_type": "code",
   "execution_count": 257,
   "metadata": {},
   "outputs": [],
   "source": [
    "data = data[0]"
   ]
  },
  {
   "cell_type": "markdown",
   "metadata": {},
   "source": [
    "We decide for r to be the shortext string in test file which is min_length"
   ]
  },
  {
   "cell_type": "code",
   "execution_count": 258,
   "metadata": {},
   "outputs": [],
   "source": [
    "min_length = len(min(data, key=len))"
   ]
  },
  {
   "cell_type": "markdown",
   "metadata": {},
   "source": [
    "In the code below we split the string in fixed length"
   ]
  },
  {
   "cell_type": "markdown",
   "metadata": {},
   "source": [
    "For the training set as we knew there is no shorter strin we did not check. \n",
    "By dividing the line length with the desired string length we learn in how many\n",
    "peaces we will split the string. \n",
    "If the result is float means we have a leftover string so we add it in the end\n",
    "by compliting string length with \"-\"."
   ]
  },
  {
   "cell_type": "code",
   "execution_count": 248,
   "metadata": {},
   "outputs": [],
   "source": [
    "new_data = []\n",
    "for line in data:\n",
    "\n",
    "    div_number = len(line)/min_length\n",
    "    div_nr_rounded = math.floor(div_number)\n",
    "    start = 0\n",
    "    end = min_length - 1\n",
    "    for x in range(0,div_nr_rounded):\n",
    "        new_data.append(line[start:end])\n",
    "        start = end +1 \n",
    "        end = end + min_length\n",
    "    if div_number.is_integer() == False:\n",
    "        word= line[(min_length * div_nr_rounded):len(line)]+\"-\"*(min_length-(len(line)-(min_length * div_nr_rounded))-1)\n",
    "        new_data.append(word)"
   ]
  },
  {
   "cell_type": "code",
   "execution_count": 249,
   "metadata": {},
   "outputs": [],
   "source": [
    "for line in new_data:\n",
    "    train.write(line+\"\\n\")"
   ]
  },
  {
   "cell_type": "code",
   "execution_count": 250,
   "metadata": {},
   "outputs": [],
   "source": [
    "test_data = pd.read_csv(\"snd-cert.1.test\", header=None)\n",
    "test_data[1] = pd.read_csv(\"snd-cert.1.labels\", header=None)"
   ]
  },
  {
   "cell_type": "markdown",
   "metadata": {},
   "source": [
    "Now we have do split the training set as well."
   ]
  },
  {
   "cell_type": "markdown",
   "metadata": {},
   "source": [
    "The only difference here is that we check if the string is shorter than desired string length we add it in list by compliting it with \"-\" character. While we create new lines for the strings we create a new line for the labes too, with the same label that the string had befor spliting"
   ]
  },
  {
   "cell_type": "code",
   "execution_count": 251,
   "metadata": {},
   "outputs": [],
   "source": [
    "new_test_data = []\n",
    "new_test_data_label = []\n",
    "for y in range(0,len(test_data[0])):\n",
    "    line = test_data[0][y]\n",
    "    label = test_data[1][y]\n",
    "    div_number = len(line)/min_length\n",
    "    div_nr_rounded = math.floor(div_number)\n",
    "    start = 0\n",
    "    end = min_length - 1\n",
    "    if div_number > 0:\n",
    "        for x in range(0,div_nr_rounded):\n",
    "            new_test_data.append(line[start:end])\n",
    "            new_test_data_label.append(label)\n",
    "            start = end +1 \n",
    "            end = end + min_length\n",
    "    if div_number.is_integer() == False or div_number < 0:\n",
    "        word= line[(min_length * div_nr_rounded):len(line)]+\"-\"*(min_length-(len(line)-(min_length * div_nr_rounded))-1)\n",
    "        new_test_data.append(word)\n",
    "        new_test_data_label.append(label)"
   ]
  },
  {
   "cell_type": "code",
   "execution_count": 252,
   "metadata": {},
   "outputs": [],
   "source": [
    "for line in new_test_data:\n",
    "    test1.write(line+\"\\n\")\n",
    "for line in new_test_data_label:\n",
    "    label1.write(str(line)+\"\\n\")"
   ]
  },
  {
   "cell_type": "code",
   "execution_count": 253,
   "metadata": {},
   "outputs": [],
   "source": [
    "train.close()\n",
    "test1.close()\n",
    "label1.close()"
   ]
  },
  {
   "cell_type": "code",
   "execution_count": null,
   "metadata": {},
   "outputs": [],
   "source": []
  }
 ],
 "metadata": {
  "kernelspec": {
   "display_name": "Python 3",
   "language": "python",
   "name": "python3"
  },
  "language_info": {
   "codemirror_mode": {
    "name": "ipython",
    "version": 3
   },
   "file_extension": ".py",
   "mimetype": "text/x-python",
   "name": "python",
   "nbconvert_exporter": "python",
   "pygments_lexer": "ipython3",
   "version": "3.6.3"
  }
 },
 "nbformat": 4,
 "nbformat_minor": 2
}
