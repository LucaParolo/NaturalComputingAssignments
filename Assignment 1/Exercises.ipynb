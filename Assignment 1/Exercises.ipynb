{
 "cells": [
  {
   "cell_type": "markdown",
   "metadata": {},
   "source": [
    "### Question 1:  \n",
    "A generational GA has a population size of 100 individuals; uses fitness proportional\n",
    "selection without elitisms; and after $t$ generation has a mean population fitness of 76.\n",
    "There is one copy of the current best member, which has fitness 157."
   ]
  },
  {
   "cell_type": "markdown",
   "metadata": {},
   "source": [
    "(a)  What is the expectation for the number of copies of the best individual in the mating pool?    \n",
    "**Solution:**   \n",
    "<div style=\"padding: 20px;\"> \n",
    "Sum of the fitness of all chromosomes will be  7600.  \n",
    "Expectation of number of copies is given by the probability for the number of individual. In this case, Using roulette wheel selection gives chance of\n",
    "<p style=\"text-align: center;\"> $p = \\frac{157}{76*100} ≈ 0.0207$ </p>\n",
    "of the best copy being selected per time.  \n",
    "Therefore for the mating pool the expected number of copies of the best individual is \n",
    "    <p style=\"text-align: center;\"> $100 * p ≈ 2.07$ </p>\n",
    "</div>\n",
    "(b)  What is the probability that there will be no copies of the best individual in the mating pool?        \n",
    "**Solution:**   \n",
    "<div style=\"padding: 20px;\"> \n",
    "The probability sum always to $1$. Therefore the probability of no best individual is;\n",
    "<p style=\"text-align: center;\"> $q = 1 − \\frac{157}{76*100} ≈ 0.9793$  </p>\n",
    "The probability of no copies of the best individual in the mating pool is the probability that all of the 100 individuals in the mating pool are different from the best. The probability that a different individual than the best is selected 100 times.\n",
    "    <p style=\"text-align: center;\"> $q^{100} ≈ 0.123$ </p>\n",
    "</div>"
   ]
  },
  {
   "cell_type": "markdown",
   "metadata": {},
   "source": [
    "###  Question 2:  \n",
    "Given the fitness function f(x) = x^2, calculate the probability of selecting the individuals x = 3, x = 5, and x = 7, using roulette wheel selection. Calculate the probability of selecting the same individuals when the fitness function is f1(x) = f(x)+8. Which fitness function yields a lower selection pressure?"
   ]
  },
  {
   "cell_type": "markdown",
   "metadata": {},
   "source": [
    "**Solution:** \n",
    "\n",
    "\n",
    "| x\\Function | f           | f1 |\n",
    "|:---|-------------|----------------|\n",
    "| 3          |  $x^2$ = 9  | $x^2$ + 8 = 17 |\n",
    "| 5          |  $x^2$ = 25 | $x^2$ + 8 = 33 | \n",
    "| 5          |  $x^2$ = 25 | $x^2$ + 8 = 33 | \n",
    "| 7          |  $x^2$ = 49 | $x^2$ + 8 = 57 | \n",
    "| **sum**    | **83**      | **107**        | \n",
    "\n",
    "For the roulette wheel, we take the sum of the fitness of each individual. \n",
    "Given $f(x)=x^2$\n",
    "A=3 is chosen, B=5 is chosen, C=7 is chosen.  \n",
    "$\\sum f=9+25+49=83$  \n",
    "\n",
    "Therefore, \n",
    "- for x = 3 probability is $P(A)=9/83 ≈ 0.1$ \n",
    "- for x = 5 probability is $P(B)=25/83 ≈ 0.31$\n",
    "- for x = 7 probability is $P(C)=49/83 ≈ 0.59$\n",
    "\n",
    "Given $f_1(x)=f(x)+8$, A= 3 is chosen, B=5 is chosen, C=7 is chosen. $\\sum f_1=17+33+57=107$  \n",
    "\n",
    "Therefore,\n",
    "- for x = 3 probability is $P(A)=17/107=0.16$ \n",
    "- for x = 5 probability is $P(B)=33/107=0.31$\n",
    "- for x = 7 probability is $P(C)=57/107=0.53$\n",
    "\n",
    "Thus, with the fitness function $f_1(x)=x^2+8$ there is a lower selection pressure as the probability to be selected is higher for lower number (in this case x=3)\n"
   ]
  },
  {
   "cell_type": "markdown",
   "metadata": {},
   "source": [
    "###  Question 3:  \n",
    " The Counting Ones problem amounts to find a bit string whose sum of its entries is maximum. This easy problem is used to illustrate the difference between Monte-Carlo search and a simple genetic algorithm.\n",
    "Monte-Carlo search for binary problems works as follows.\n",
    "\n",
    "(a) Start with a random bit sequence.\n",
    "\n",
    "(b) If it is equal to the goal sequence then stop, otherwise repeat the process from step (a)."
   ]
  },
  {
   "cell_type": "markdown",
   "metadata": {},
   "source": [
    " The Counting Ones problem amounts to find a bit string whose sum of its entries is maximum. This easy problem is used to illustrate the difference between Monte-Carlo search and a simple genetic algorithm.\n",
    "Monte-Carlo search for binary problems works as follows.\n",
    "(a) Start with a random bit sequence.\n",
    "(b) If it is equal to the goal sequence then stop, otherwise repeat the process from step (a)."
   ]
  },
  {
   "cell_type": "code",
   "execution_count": 2,
   "metadata": {
    "collapsed": true
   },
   "outputs": [],
   "source": [
    "import math\n",
    "import sys\n",
    "import random\n",
    "from collections import deque\n",
    "\n"
   ]
  },
  {
   "cell_type": "code",
   "execution_count": 3,
   "metadata": {
    "collapsed": true
   },
   "outputs": [],
   "source": [
    "###\n",
    "n = 10\n",
    "iterations = 10\n",
    "###\n",
    "\n"
   ]
  },
  {
   "cell_type": "code",
   "execution_count": 4,
   "metadata": {},
   "outputs": [
    {
     "name": "stdout",
     "output_type": "stream",
     "text": [
      "1111111110\n",
      "9\n"
     ]
    }
   ],
   "source": [
    "best = ''\n",
    "result = '' \n",
    "for i in range(1,iterations+1):\n",
    "    eval = ''\n",
    "\n",
    "    for z in range(1,n+1):\n",
    "        eval = eval + str(random.randint(0,1))\n",
    "    if eval.count('1') > best.count('1'):\n",
    "        result = result + str(i) + ';' + str(eval) + ';' + str(eval.count('1')) + '\\n'\n",
    "        best = eval\n",
    "    else: \n",
    "        result = result + str(i) + ';' + str(best) + ';' + str(best.count('1')) + '\\n'\n",
    "    if (eval.count('1') == n):\n",
    "        print (result)\n",
    "        print('Success!!')\n",
    "        break;\n",
    "print (best)\n",
    "print (best.count('1'))\n",
    "f = open('results_monte_carlo.csv', 'w+')\n",
    "f.write(str(result))\n",
    "f.close()"
   ]
  },
  {
   "cell_type": "code",
   "execution_count": null,
   "metadata": {
    "collapsed": true
   },
   "outputs": [],
   "source": []
  }
 ],
 "metadata": {
  "kernelspec": {
   "display_name": "Python 3",
   "language": "python",
   "name": "python3"
  },
  "language_info": {
   "codemirror_mode": {
    "name": "ipython",
    "version": 3
   },
   "file_extension": ".py",
   "mimetype": "text/x-python",
   "name": "python",
   "nbconvert_exporter": "python",
   "pygments_lexer": "ipython3",
   "version": "3.6.1"
  }
 },
 "nbformat": 4,
 "nbformat_minor": 2
}
