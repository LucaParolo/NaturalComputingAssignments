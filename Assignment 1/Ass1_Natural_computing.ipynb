{
 "cells": [
  {
   "cell_type": "markdown",
   "metadata": {},
   "source": [
    "### Question 1:  \n",
    "A generational GA has a population size of 100 individuals; uses fitness proportional\n",
    "selection without elitisms; and after $t$ generation has a mean population fitness of 76.\n",
    "There is one copy of the current best member, which has fitness 157."
   ]
  },
  {
   "cell_type": "markdown",
   "metadata": {},
   "source": [
    "(a)  What is the expectation for the number of copies of the best individual in the mating pool?    \n",
    "**Solution:**   \n",
    "<div style=\"padding: 20px;\"> \n",
    "Sum of the fitness of all chromosomes will be  7600.  \n",
    "Expectation of number of copies is given by the probability for the number of individual. In this case, Using roulette wheel selection gives chance of\n",
    "<p style=\"text-align: center;\"> $p = \\frac{157}{76*100} ≈ 0.0207$ </p>\n",
    "of the best copy being selected per time.  \n",
    "Therefore for the mating pool the expected number of copies of the best individual is \n",
    "    <p style=\"text-align: center;\"> $100 * p ≈ 2.07$ </p>\n",
    "</div>\n",
    "(b)  What is the probability that there will be no copies of the best individual in the mating pool?        \n",
    "**Solution:**   \n",
    "<div style=\"padding: 20px;\"> \n",
    "The probability sum always to $1$. Therefore the probability of no best individual is;\n",
    "<p style=\"text-align: center;\"> $q = 1 − \\frac{157}{76*100} ≈ 0.9793$  </p>\n",
    "The probability of no copies of the best individual in the mating pool is the probability that all of the 100 individuals in the mating pool are different from the best. The probability that a different individual than the best is selected 100 times.\n",
    "    <p style=\"text-align: center;\"> $q^{100} ≈ 0.123$ </p>\n",
    "</div>"
   ]
  },
  {
   "cell_type": "markdown",
   "metadata": {},
   "source": [
    "###  Question 2:  \n",
    "Given the fitness function f(x) = x^2, calculate the probability of selecting the individuals x = 3, x = 5, and x = 7, using roulette wheel selection. Calculate the probability of selecting the same individuals when the fitness function is f1(x) = f(x)+8. Which fitness function yields a lower selection pressure?"
   ]
  },
  {
   "cell_type": "markdown",
   "metadata": {},
   "source": [
    "**Solution:** \n",
    "\n",
    "\n",
    "| x\\Function | f           | f1 |\n",
    "|:---|-------------|----------------|\n",
    "| 3          |  $x^2$ = 9  | $x^2$ + 8 = 17 |\n",
    "| 5          |  $x^2$ = 25 | $x^2$ + 8 = 33 | \n",
    "| 5          |  $x^2$ = 25 | $x^2$ + 8 = 33 | \n",
    "| 7          |  $x^2$ = 49 | $x^2$ + 8 = 57 | \n",
    "| **sum**    | **83**      | **107**        | \n",
    "\n",
    "For the roulette wheel, we take the sum of the fitness of each individual. \n",
    "Given $f(x)=x^2$\n",
    "A=3 is chosen, B=5 is chosen, C=7 is chosen.  \n",
    "$\\sum f=9+25+49=83$  \n",
    "\n",
    "Therefore, \n",
    "- for x = 3 probability is $P(A)=9/83 ≈ 0.1$ \n",
    "- for x = 5 probability is $P(B)=25/83 ≈ 0.31$\n",
    "- for x = 7 probability is $P(C)=49/83 ≈ 0.59$\n",
    "\n",
    "Given $f_1(x)=f(x)+8$, A= 3 is chosen, B=5 is chosen, C=7 is chosen. $\\sum f_1=17+33+57=107$  \n",
    "\n",
    "Therefore,\n",
    "- for x = 3 probability is $P(A)=17/107=0.16$ \n",
    "- for x = 5 probability is $P(B)=33/107=0.31$\n",
    "- for x = 7 probability is $P(C)=57/107=0.53$\n",
    "\n",
    "Thus, with the fitness function $f_1(x)=x^2+8$ there is a lower selection pressure as the probability to be selected is higher for lower number (in this case x=3)\n"
   ]
  },
  {
   "cell_type": "markdown",
   "metadata": {},
   "source": [
    "###  Question 3:  \n",
    " The Counting Ones problem amounts to find a bit string whose sum of its entries is maximum. This easy problem is used to illustrate the difference between Monte-Carlo search and a simple genetic algorithm.  \n",
    "Implement a Monte-Carlo search algorithm for the Counting Ones problem.  \n",
    "\n",
    "##### (a) Use n = 100 and for a run of 1500 iterations, plot the best fitness against the elapsed number of iterations.\n",
    "\n",
    "**Solution:** \n"
   ]
  },
  {
   "cell_type": "code",
   "execution_count": 120,
   "metadata": {
    "collapsed": true
   },
   "outputs": [],
   "source": [
    "#Import necessary libraries\n",
    "import math\n",
    "import sys\n",
    "import random\n",
    "from collections import deque\n",
    "import numpy as np\n",
    "import matplotlib.pyplot as plt"
   ]
  },
  {
   "cell_type": "code",
   "execution_count": 121,
   "metadata": {
    "collapsed": true
   },
   "outputs": [],
   "source": [
    "# defining parameters\n",
    "n = 100\n",
    "iterations = 1500\n",
    "\n",
    "def counting_ones(sequence):\n",
    "    return sum(sequence)\n",
    "    \n",
    "def generate_random_bit_sequence(n):\n",
    "    # creating a bit sequence with length n\n",
    "    sequence = np.random.randint(2, size=n) \n",
    "    return sequence\n",
    "\n",
    "def MonteCarloSearch(obj_func, n, iteration):\n",
    "    \"\"\"Monte-Carlo search for binary problems works as follows.\n",
    "    (a) Start with a random bit sequence.\n",
    "    (b) If it is equal to the goal sequence then stop, otherwise repeat the process from step (a).\"\"\"\n",
    "    best_fitnesses=[]\n",
    "    best = ''\n",
    "    for i in range(0,iteration):\n",
    "        bitsequence = ''\n",
    "        bitsequence = generate_random_bit_sequence(n)\n",
    "        if obj_func(bitsequence) > obj_func(best):\n",
    "            #if count of 1's is more than the old ones, assign the bitsequence as best\n",
    "            best = bitsequence\n",
    "        best_fitnesses.append(obj_func(best))\n",
    "        if (obj_func(bitsequence) == n):\n",
    "            print (result)\n",
    "            print(\"Success!! Best fitness\",best_fitness,\" found in individual number \",i )\n",
    "            break;\n",
    "    print (\"Best solution found by MonteCarloSearch: \", best)\n",
    "    print (\"Best fitness: \", obj_func(best))\n",
    "    return best_fitnesses"
   ]
  },
  {
   "cell_type": "code",
   "execution_count": 122,
   "metadata": {},
   "outputs": [
    {
     "name": "stdout",
     "output_type": "stream",
     "text": [
      "Best solution found by MonteCarloSearch:  [1 1 1 1 1 1 0 1 1 1 1 0 1 1 1 0 1 0 0 0 0 0 0 1 1 1 1 1 0 1 0 1 1 0 1 1 1\n",
      " 0 1 1 1 1 1 1 0 1 1 1 1 1 0 0 1 0 1 1 0 0 0 1 1 1 0 1 1 1 0 1 1 0 1 0 1 0\n",
      " 1 1 1 0 1 1 0 1 1 0 1 1 1 0 1 1 1 0 0 1 1 0 1 1 0 0]\n",
      "Best fitness:  66\n"
     ]
    }
   ],
   "source": [
    "best_fitnesses = MonteCarloSearch(counting_ones, n, iterations)"
   ]
  },
  {
   "cell_type": "markdown",
   "metadata": {},
   "source": [
    "#### Ploting the best fittness"
   ]
  },
  {
   "cell_type": "code",
   "execution_count": 123,
   "metadata": {},
   "outputs": [
    {
     "data": {
      "image/png": "[encoded data removed]",
      "text/plain": [
       "<matplotlib.figure.Figure at 0x24718b0b4e0>"
      ]
     },
     "metadata": {},
     "output_type": "display_data"
    }
   ],
   "source": [
    "plt.figure(1,figsize=(13,8))\n",
    "plt.plot(best_fitnesses,label=\"Best fitness\")\n",
    "plt.xlabel(\"Individual number\")\n",
    "plt.ylabel(\"Fitness\")\n",
    "plt.title(\"Best fitness found with Monte Carlo solution for the bit counting problem\")\n",
    "plt.ylim(10, 100)\n",
    "plt.legend()\n",
    "plt.show()"
   ]
  },
  {
   "cell_type": "markdown",
   "metadata": {},
   "source": [
    "The result depends on whether you consider the result of every iteration a ‘found individual’, or only consider the last individual as a ‘found individual’. Based on how the question was phrased we assumed the first case was meant. Otherwise, the result would just be completely random."
   ]
  },
  {
   "cell_type": "markdown",
   "metadata": {},
   "source": [
    "##### (b) Now do ten runs. How many times the algorithm finds the optimum?  \n",
    "\n",
    "**Solution:** \n"
   ]
  },
  {
   "cell_type": "code",
   "execution_count": 124,
   "metadata": {},
   "outputs": [
    {
     "name": "stdout",
     "output_type": "stream",
     "text": [
      "Best solution found by MonteCarloSearch:  [1 1 0 0 1 0 1 1 1 1 1 1 1 1 1 1 1 0 1 0 1 1 1 1 1 1 1 0 0 1 1 1 0 0 1 1 1\n",
      " 1 1 1 0 0 1 0 0 0 1 1 0 0 0 1 1 1 1 1 1 0 1 1 0 1 1 1 1 1 0 0 1 0 1 0 1 1\n",
      " 0 1 1 1 1 0 0 1 1 1 1 0 0 1 0 0 1 0 1 1 0 0 1 1 0 1]\n",
      "Best fitness:  66\n",
      "Best solution found by MonteCarloSearch:  [0 1 1 1 0 1 1 1 1 1 1 0 0 1 1 1 0 1 0 1 0 0 0 0 1 1 1 1 0 1 1 1 1 0 1 1 0\n",
      " 1 1 1 0 1 1 0 1 1 1 1 0 0 0 1 1 0 0 1 1 1 1 1 0 0 0 1 1 1 1 0 1 1 1 1 1 1\n",
      " 0 0 1 1 1 1 1 0 1 0 1 0 1 1 0 1 1 1 1 1 1 1 0 1 0 1]\n",
      "Best fitness:  68\n",
      "Best solution found by MonteCarloSearch:  [1 0 1 0 0 1 0 0 0 1 1 0 0 1 1 1 1 1 1 1 1 1 1 1 0 0 1 1 1 0 0 0 1 0 1 1 1\n",
      " 1 0 1 1 1 0 0 0 1 1 1 1 1 0 1 1 1 1 0 0 1 1 1 0 1 1 1 0 0 1 1 1 0 0 1 1 0\n",
      " 1 1 0 1 1 1 0 1 1 1 1 0 1 1 0 1 1 1 1 0 1 0 1 1 1 1]\n",
      "Best fitness:  67\n",
      "Best solution found by MonteCarloSearch:  [0 0 1 1 1 1 1 1 0 0 1 1 0 1 1 0 1 0 1 1 1 1 1 0 1 1 1 0 1 1 0 1 1 0 1 0 1\n",
      " 0 1 1 1 1 1 1 1 0 1 0 1 0 1 0 1 1 1 1 0 0 1 1 1 0 1 1 0 0 0 1 0 0 1 1 0 1\n",
      " 1 1 1 0 1 1 0 0 1 1 0 0 1 0 0 1 1 1 1 1 1 1 1 1 1 0]\n",
      "Best fitness:  66\n",
      "Best solution found by MonteCarloSearch:  [1 1 0 0 1 1 1 1 1 1 0 1 1 1 1 1 1 0 0 1 1 1 0 1 0 0 0 0 1 1 0 1 1 1 0 1 1\n",
      " 1 0 0 1 0 0 1 1 1 1 0 1 1 1 1 1 1 1 0 1 0 1 1 1 1 0 1 0 1 1 1 1 1 1 1 0 1\n",
      " 1 0 1 1 0 1 1 0 1 1 0 1 1 1 1 1 1 0 0 0 0 0 1 0 0 1]\n",
      "Best fitness:  67\n",
      "Best solution found by MonteCarloSearch:  [0 1 1 1 0 0 0 1 1 0 0 0 0 0 0 1 1 1 1 1 0 1 1 1 1 1 1 1 1 0 1 1 1 1 1 1 0\n",
      " 0 1 0 1 1 0 1 0 1 1 1 0 1 0 1 1 1 1 1 1 1 1 0 1 1 1 0 0 1 0 1 0 0 0 1 1 1\n",
      " 1 1 1 1 1 1 1 1 1 1 0 1 1 0 1 1 1 1 0 0 1 1 1 1 1 0]\n",
      "Best fitness:  69\n",
      "Best solution found by MonteCarloSearch:  [0 0 1 1 0 1 0 1 1 1 1 1 1 0 1 1 1 1 0 0 1 1 1 0 1 0 1 1 1 1 0 1 1 1 1 0 0\n",
      " 1 1 1 0 1 0 1 1 1 0 1 0 0 1 1 1 1 1 1 1 0 0 1 1 1 1 0 1 0 1 0 0 1 1 0 1 0\n",
      " 1 1 1 0 1 1 1 1 0 0 0 0 0 1 0 0 1 0 1 1 1 1 1 1 1 1]\n",
      "Best fitness:  66\n",
      "Best solution found by MonteCarloSearch:  [1 1 0 1 0 1 0 1 0 0 0 1 1 1 0 1 1 1 1 1 1 1 0 1 1 1 0 1 0 1 0 0 1 1 1 1 1\n",
      " 1 1 1 1 1 1 0 1 0 0 0 1 1 1 1 0 1 1 0 1 1 0 1 0 1 1 1 1 1 1 1 0 0 1 0 0 1\n",
      " 1 0 0 1 1 1 1 1 1 1 0 1 0 1 1 0 1 1 1 0 1 1 1 1 1 1]\n",
      "Best fitness:  70\n",
      "Best solution found by MonteCarloSearch:  [1 0 0 1 1 1 1 0 0 0 1 1 1 0 1 0 0 1 1 1 1 0 1 1 0 0 1 1 0 1 1 0 0 1 1 0 0\n",
      " 1 1 1 1 1 0 0 1 1 1 1 0 0 0 0 0 0 1 0 1 0 1 1 1 1 1 0 1 1 1 1 0 1 0 0 1 1\n",
      " 1 1 1 1 1 1 1 0 1 0 1 0 0 1 1 1 1 1 1 1 1 0 0 1 1 1]\n",
      "Best fitness:  64\n",
      "Best solution found by MonteCarloSearch:  [0 1 1 1 1 1 1 0 1 1 1 1 0 0 0 0 1 1 1 1 0 1 1 0 1 1 1 0 0 1 1 0 1 1 1 0 1\n",
      " 1 1 1 1 0 1 0 1 1 1 1 1 1 1 1 0 1 1 1 1 1 0 0 0 1 0 1 0 1 1 1 1 1 1 0 1 1\n",
      " 0 0 1 1 1 1 0 1 1 1 1 0 0 1 0 1 0 0 1 0 1 0 0 0 0 0]\n",
      "Best fitness:  65\n"
     ]
    },
    {
     "data": {
      "text/plain": [
       "<matplotlib.figure.Figure at 0x2471a4102b0>"
      ]
     },
     "metadata": {},
     "output_type": "display_data"
    },
    {
     "data": {
      "image/png": "[encoded data removed]",
      "text/plain": [
       "<matplotlib.figure.Figure at 0x2471a4104e0>"
      ]
     },
     "metadata": {},
     "output_type": "display_data"
    }
   ],
   "source": [
    "plt.figure(1,figsize=(13,8))\n",
    "fig, ax = plt.subplots()\n",
    "plt.xlabel(\"Runs \")\n",
    "plt.ylabel(\"Best Fitness\")\n",
    "plt.title(\"Best fitness found with a Monte Carlo solution for the bit counting problem\")\n",
    "runs = range(1, 11)\n",
    "performance = []\n",
    "def autolabel(rects):\n",
    "    \"\"\"\n",
    "    Attach a text label above each bar displaying its height\n",
    "    \"\"\"\n",
    "    for rect in rects:\n",
    "        height = rect.get_height()\n",
    "        ax.text(rect.get_x() + rect.get_width()/2., 1.05*height,\n",
    "                '%d' % int(height),\n",
    "                ha='center', va='bottom')\n",
    "\n",
    "for i in range (1,11):\n",
    "    to_plot=MonteCarloSearch(counting_ones, 100, 1500)\n",
    "    performance.append(max(to_plot))\n",
    "rects1 = ax.bar(runs, performance , align='center')\n",
    "ax.set_xticklabels(runs)\n",
    "plt.ylim(10, 100)\n",
    "autolabel(rects1)\n",
    "plt.show()"
   ]
  },
  {
   "cell_type": "markdown",
   "metadata": {},
   "source": [
    "As we see, even with 10 runs the algorithm does not find an optimal solution\n",
    "Zero times, since the probability of finding the optimum is 1/(2^n) = 1/(2^100) = +- 7.8 * 10^-31, but we only do 1500 iterations per run, so 15000 in total. Taking into account the 15000 iterations, the chance of finding the optimum is 15000/(2^100) = +- 1.18 * 10^-26  "
   ]
  },
  {
   "cell_type": "markdown",
   "metadata": {},
   "source": [
    "###  Question 4:  \n",
    "\n",
    "Implement a simple (1 + 1)-GA for solving the Counting Ones problem, using the same approach as with the Monte-Carlo search algorithm.\n",
    "\n",
    "##### (a) Use n = 100 and a mutation rate p = 1/n. For a run of 1500 iterations, plot the best fitness against the elapsed number of iterations.\n",
    "**Solution:**\n",
    "\n",
    "Now we try to solve the same problem with a simple genetic algorithm\n"
   ]
  },
  {
   "cell_type": "code",
   "execution_count": 125,
   "metadata": {},
   "outputs": [
    {
     "data": {
      "text/plain": [
       "'0000111111001011011011110110001000110010010111101000000001001011011011010110110101001010101100000010'"
      ]
     },
     "execution_count": 125,
     "metadata": {},
     "output_type": "execute_result"
    }
   ],
   "source": [
    "''.join([str(random.randint(0,1)) for z in range(1,n+1)])"
   ]
  },
  {
   "cell_type": "code",
   "execution_count": 127,
   "metadata": {
    "collapsed": true
   },
   "outputs": [],
   "source": [
    "#Import necessary libraries\n",
    "import math\n",
    "import sys\n",
    "import random\n",
    "from collections import deque\n",
    "\n",
    "# defining parameters\n",
    "n = 100\n",
    "iterations = 1500\n",
    "p = 1/n"
   ]
  },
  {
   "cell_type": "code",
   "execution_count": 128,
   "metadata": {
    "collapsed": true
   },
   "outputs": [],
   "source": [
    "def GeneticAlgorithm(obj_func, n, iteration):\n",
    "    \"\"\"A simple (1 + 1)-GA for binary problems works as follows. 1\n",
    "    (a) Randomly generate a bit sequence x.\n",
    "    (b) Create a copy of x and invert each of its bits with probability p. Let xm be the result.\n",
    "    (c) If xm is closer to the goal sequence than x then replace x with xm.\n",
    "    (d) Repeat the process from step (b) with the new x until the goal sequence is reached.\"\"\"\n",
    "    #create a random parent of n bits\n",
    "    parent = generate_random_bit_sequence(n) \n",
    "    #compute the probability of mutation in percentage (integer between 0 and 100)\n",
    "    mutation_probability=((1/n)*100) \n",
    "    best_fitness_list=[]\n",
    "    for i in range(0,iteration):\n",
    "        bit_position = 0\n",
    "        parent_copy = list(parent) #make a copy of the parent\n",
    "        fitness_parent = obj_func(parent) #compute parent fitness\n",
    "        best_fitness_list.append(fitness_parent) #save fitness\n",
    "        for bit in parent_copy:\n",
    "            ##compute the probability of mutation in percentage (integer between 0 and 100)\n",
    "            x=random.uniform(0,100) \n",
    "            if  x <= mutation_probability: # if the just created random number is less than the mutation probbility\n",
    "                #mutates 0 in a and 1 in 0\n",
    "                if bit == 1: \n",
    "                    parent_copy[bit_position] = 0\n",
    "                else:\n",
    "                    parent_copy[bit_position] = 1\n",
    "            else:\n",
    "                parent_copy[bit_position] = parent_copy[bit_position]\n",
    "            bit_position=bit_position+1\n",
    "        fitness_parent_copy = obj_func(parent_copy) ##compute fitness of parent_copy\n",
    "        ##if the fitness of the copy is better than the one of the parent, the copy is the new parent\n",
    "        if fitness_parent_copy > fitness_parent: \n",
    "            parent=list(parent_copy)         \n",
    "        else:\n",
    "            parent=list(parent)  ##otherwise nothing is changed. Parent is still parent\n",
    "         \n",
    "        if (fitness_parent_copy == n): ##if we reach an optimal solution, breaks the loop\n",
    "            print(\"Success!! Optimum solution found with fitness: \", fitness_parent_copy,\" at ITERATION: \", i)\n",
    "            break\n",
    "    if i==(iteration-1):    ##if we don't get an optimal solution, prints the best solution found\n",
    "        print(\"We haven't found an optimal solution. The best solution is \", parent, \"  with fitness: \", fitness_parent,\"/\",n)\n",
    "    return best_fitness_list"
   ]
  },
  {
   "cell_type": "code",
   "execution_count": 7,
   "metadata": {
    "collapsed": true
   },
   "outputs": [],
   "source": [
    "def GeneticAlgorithmSolution(n,iteration):\n",
    "    import random\n",
    "    parent=np.random.randint(2, size=n) ##create a random parent of n bits\n",
    "    mutation_probability=((1/n)*100) ##compute the probability of mutation in percentage (integer between 0 and 100)\n",
    "    best_fitness_list=[]\n",
    "    for i in range(0,iteration):\n",
    "        bit_position=0\n",
    "        parent_copy=list(parent) ##make a copy of the parent\n",
    "        fitness_parent=sum(parent) ##compute parent fitness\n",
    "        best_fitness_list.append(fitness_parent) ##save fitness\n",
    "        for bit in parent_copy:\n",
    "        \n",
    "            x=random.uniform(0,100) ##create random number between 0 and 100 \n",
    "            if  x <= mutation_probability: ## if the just created random number is less than the mutation probbility\n",
    "                if bit == 1: ##mutates 0 in a and 1 in 0\n",
    "\n",
    "                    parent_copy[bit_position] = 0\n",
    "\n",
    "                else:\n",
    "                    parent_copy[bit_position]=1\n",
    "\n",
    "            else:\n",
    "                parent_copy[bit_position]=parent_copy[bit_position]\n",
    "\n",
    "            bit_position=bit_position+1\n",
    "        \n",
    "        fitness_parent_copy=sum(parent_copy) ##compute fitness of parent_copy\n",
    "\n",
    "        if fitness_parent_copy>fitness_parent: ##if the fitness of the copy is better than the one of the parent,\n",
    "                                               ##the copy is the new parent\n",
    "\n",
    "            parent=list(parent_copy)\n",
    "            \n",
    "        else:\n",
    "            parent=list(parent)  ##otherwise nothing is changed. Parent is still parent\n",
    "        \n",
    "        \n",
    "        if fitness_parent_copy==n: ##if we reach an optimal solution, breaks the loop\n",
    "            print(\"optimum solution found with fitness: \", fitness_parent_copy,\" at ITERATION: \", i)\n",
    "            break\n",
    "        \n",
    "\n",
    "    if i==(iteration-1):    ##if we don't get an optimal solution, prints the best solution found\n",
    "        print(\"We haven't found an optimal solution. The best solution is \", parent, \"  with fitness: \", fitness_parent,\"/\",n)\n",
    "    \n",
    "    return best_fitness_list"
   ]
  },
  {
   "cell_type": "markdown",
   "metadata": {},
   "source": [
    "We test our function"
   ]
  },
  {
   "cell_type": "code",
   "execution_count": 129,
   "metadata": {},
   "outputs": [
    {
     "name": "stdout",
     "output_type": "stream",
     "text": [
      "Success!! Optimum solution found with fitness:  100  at ITERATION:  720\n"
     ]
    }
   ],
   "source": [
    "to_plot = GeneticAlgorithm(counting_ones, 100, 1500)"
   ]
  },
  {
   "cell_type": "markdown",
   "metadata": {},
   "source": [
    "With n=100 and 1500 iteration the function has good result , but doesn't always find the optimal solution. However, even if it doesn't, it reach a much better result compared to the Monte Carlo solution"
   ]
  },
  {
   "cell_type": "code",
   "execution_count": 130,
   "metadata": {},
   "outputs": [
    {
     "data": {
      "image/png": "[encoded data removed]",
      "text/plain": [
       "<matplotlib.figure.Figure at 0x2471a29dd30>"
      ]
     },
     "metadata": {},
     "output_type": "display_data"
    }
   ],
   "source": [
    "plt.figure(1,figsize=(12,8))\n",
    "plt.plot(to_plot,label=\"Best fitness\")\n",
    "plt.xlabel(\"Individual number\")\n",
    "plt.ylabel(\"Fitness\")\n",
    "plt.title(\"Best fitness found with a simple genetic algorithm solution for the bit counting problem\")\n",
    "plt.legend()\n",
    "plt.show()"
   ]
  },
  {
   "cell_type": "markdown",
   "metadata": {},
   "source": [
    "###### (b) Now do ten runs. How many times the algorithm finds the optimum?"
   ]
  },
  {
   "cell_type": "code",
   "execution_count": 131,
   "metadata": {},
   "outputs": [
    {
     "name": "stdout",
     "output_type": "stream",
     "text": [
      "We haven't found an optimal solution. The best solution is  [1, 1, 1, 0, 1, 1, 1, 1, 1, 1, 1, 1, 1, 1, 1, 1, 1, 1, 1, 1, 1, 1, 1, 1, 1, 1, 1, 1, 1, 1, 1, 1, 1, 1, 1, 1, 1, 1, 1, 1, 1, 1, 1, 1, 1, 1, 1, 1, 1, 1, 1, 1, 1, 1, 1, 1, 1, 1, 1, 1, 1, 1, 1, 1, 1, 1, 1, 1, 1, 1, 1, 1, 1, 1, 1, 1, 1, 1, 1, 1, 1, 1, 1, 1, 1, 1, 1, 1, 1, 1, 1, 1, 1, 1, 1, 1, 1, 1, 1, 1]   with fitness:  99 / 100\n",
      "We haven't found an optimal solution. The best solution is  [1, 1, 1, 1, 1, 1, 1, 1, 1, 1, 1, 1, 1, 1, 1, 1, 1, 1, 1, 1, 1, 1, 1, 1, 1, 1, 1, 1, 1, 1, 1, 1, 1, 1, 1, 1, 1, 1, 1, 1, 1, 1, 1, 1, 1, 1, 1, 1, 1, 1, 1, 1, 1, 1, 1, 1, 1, 1, 1, 1, 1, 1, 1, 1, 1, 1, 1, 1, 1, 1, 1, 1, 1, 1, 1, 1, 0, 1, 1, 1, 1, 1, 1, 1, 1, 1, 1, 1, 1, 1, 1, 1, 1, 1, 1, 1, 1, 1, 1, 1]   with fitness:  99 / 100\n",
      "Success!! Optimum solution found with fitness:  100  at ITERATION:  1299\n",
      "We haven't found an optimal solution. The best solution is  [1, 1, 1, 1, 1, 1, 1, 1, 1, 1, 1, 1, 1, 1, 1, 1, 1, 1, 1, 1, 1, 1, 1, 1, 1, 1, 1, 1, 1, 1, 1, 1, 1, 1, 1, 1, 1, 1, 1, 1, 1, 1, 1, 1, 1, 1, 1, 1, 1, 1, 1, 1, 1, 1, 1, 1, 0, 1, 1, 1, 1, 1, 1, 1, 1, 1, 1, 1, 1, 1, 1, 1, 1, 1, 1, 1, 1, 1, 1, 1, 1, 1, 1, 1, 1, 1, 1, 1, 1, 1, 1, 1, 1, 1, 1, 1, 1, 1, 1, 1]   with fitness:  99 / 100\n",
      "Success!! Optimum solution found with fitness:  100  at ITERATION:  1456\n",
      "Success!! Optimum solution found with fitness:  100  at ITERATION:  1105\n",
      "Success!! Optimum solution found with fitness:  100  at ITERATION:  826\n",
      "Success!! Optimum solution found with fitness:  100  at ITERATION:  914\n",
      "Success!! Optimum solution found with fitness:  100  at ITERATION:  823\n",
      "Success!! Optimum solution found with fitness:  100  at ITERATION:  847\n"
     ]
    },
    {
     "data": {
      "image/png": "[encoded data removed]",
      "text/plain": [
       "<matplotlib.figure.Figure at 0x2471a2c59b0>"
      ]
     },
     "metadata": {},
     "output_type": "display_data"
    }
   ],
   "source": [
    "plt.figure(1,figsize=(15,10))\n",
    "plt.xlabel(\"Individual number\")\n",
    "plt.ylabel(\"Fitness\")\n",
    "plt.title(\"Best fitness found with a simple genetic algorithm solution for the bit counting problem\")\n",
    "for i in range (1,11):\n",
    "    to_plot = GeneticAlgorithm(counting_ones, 100, 1500)\n",
    "    legend=\"Fitness iteration number \"+str(i)\n",
    "    plt.plot(to_plot,label=legend)\n",
    "plt.legend()\n",
    "plt.show()"
   ]
  },
  {
   "cell_type": "markdown",
   "metadata": {},
   "source": [
    "As we see in this 10 runs, tin this case we have 7 opitmal solution "
   ]
  },
  {
   "cell_type": "markdown",
   "metadata": {},
   "source": [
    "##### (c) Is there a difference in performance compared to the Monte-Carlo Search algorithm? Justify your answer."
   ]
  },
  {
   "cell_type": "markdown",
   "metadata": {},
   "source": [
    "Yes, there is a difference in terms of the performance, due to the nature of the (1+1)-GA. Monte Carlo algorithm is starting from the scratch in every iteration. Although GA uses modifications towards best solution at every iteration. GA uses the best individual found so far as its starting point \n"
   ]
  },
  {
   "cell_type": "markdown",
   "metadata": {
    "collapsed": true
   },
   "source": [
    "### Question 5"
   ]
  },
  {
   "cell_type": "markdown",
   "metadata": {},
   "source": [
    "Give a suitable function, terminal set and s-expression for\n",
    "the following logical formula:\n",
    "$(x \\wedge true) \\rightarrow ((x \\vee y) \\vee (z \\longleftrightarrow (x \\wedge y)))$"
   ]
  },
  {
   "cell_type": "markdown",
   "metadata": {},
   "source": [
    "#### -Function set: $\\left\\{\\wedge,\\rightarrow,\\vee,\\longleftrightarrow\\right\\}$\n",
    "\n",
    "#### -Terminal set:$\\left\\{ x, true, y ,z \\right\\}$\n",
    "\n",
    "#### -s-expression:$(\\:\\rightarrow \\: (\\: \\wedge \\:x \\:true\\:)\\:(\\:\\vee\\:(\\:\\vee \\:x \\:y \\:)\\:(\\:\\longleftrightarrow\\: z \\:( \\:\\wedge \\:x \\:y\\:)\\:)\\:)\\:)  $ "
   ]
  },
  {
   "cell_type": "markdown",
   "metadata": {},
   "source": [
    "### Question 6"
   ]
  },
  {
   "cell_type": "markdown",
   "metadata": {},
   "source": [
    "http://gplearn.readthedocs.io/en/stable/reference.html#gplearn.genetic.SymbolicRegressor\n",
    "http://gplearn.readthedocs.io/en/stable/examples.html#example-1-symbolic-regressor"
   ]
  },
  {
   "cell_type": "code",
   "execution_count": 133,
   "metadata": {
    "collapsed": true
   },
   "outputs": [],
   "source": [
    "import math\n",
    "import gplearn\n",
    "from gplearn import genetic"
   ]
  },
  {
   "cell_type": "code",
   "execution_count": 216,
   "metadata": {
    "collapsed": true
   },
   "outputs": [],
   "source": [
    "X=[-1,-0.9,-0.8,-.7,-.6,-.5,-.4,-.3,-.2,-.1,0.0,.1,.2,.3,.4,.5,.6,.7,.8,.9,1]\n",
    "Y = [0.0,-.1629,-.2624,-.3129,-.3264,-.3125,-.2784,-.2289,-.1664,-0.0909,0.0,.1111,.2496,.4251,.6496,.9375,1.3056,1.7731,2.3616,3.0951,4.0000]"
   ]
  },
  {
   "cell_type": "code",
   "execution_count": 217,
   "metadata": {
    "collapsed": true
   },
   "outputs": [],
   "source": [
    "X=np.reshape(X,(-1,1))\n",
    "Y=np.reshape(Y,(-1,1))"
   ]
  },
  {
   "cell_type": "markdown",
   "metadata": {},
   "source": [
    "We make the exponential function to pass as parameter in the function_set, as this is not already built in gplearn"
   ]
  },
  {
   "cell_type": "code",
   "execution_count": 218,
   "metadata": {
    "collapsed": true
   },
   "outputs": [],
   "source": [
    "def _protected_exponent(x1):\n",
    "    with np.errstate(over='ignore'):\n",
    "        return np.where(np.abs(x1) < 100, np.exp(x1), 0.)"
   ]
  },
  {
   "cell_type": "markdown",
   "metadata": {},
   "source": [
    "Then we make it into a gplearn compatible function"
   ]
  },
  {
   "cell_type": "code",
   "execution_count": 255,
   "metadata": {
    "collapsed": true
   },
   "outputs": [],
   "source": [
    "exp = gplearn.functions.make_function(function=_protected_exponent,name='exp',arity=1)"
   ]
  },
  {
   "cell_type": "markdown",
   "metadata": {},
   "source": [
    "We define our fitness measure as the sum of absolute errors"
   ]
  },
  {
   "cell_type": "code",
   "execution_count": 256,
   "metadata": {
    "collapsed": true
   },
   "outputs": [],
   "source": [
    "def _sae(y, y_pred, w):\n",
    "    \"\"\"Calculate the sum absolute error.\"\"\"\n",
    "    return np.abs(np.sum(y-y_pred))"
   ]
  },
  {
   "cell_type": "markdown",
   "metadata": {},
   "source": [
    "We make the fitness function gplearn compatible"
   ]
  },
  {
   "cell_type": "code",
   "execution_count": 221,
   "metadata": {},
   "outputs": [],
   "source": [
    "sae =gplearn.fitness.make_fitness(_sae, greater_is_better=False)"
   ]
  },
  {
   "cell_type": "markdown",
   "metadata": {},
   "source": [
    "Now with our parameters, we can build our SymbolicRegressor"
   ]
  },
  {
   "cell_type": "code",
   "execution_count": 250,
   "metadata": {},
   "outputs": [
    {
     "name": "stdout",
     "output_type": "stream",
     "text": [
      "    |    Population Average   |             Best Individual              |\n",
      "---- ------------------------- ------------------------------------------ ----------\n",
      " Gen   Length          Fitness   Length          Fitness      OOB Fitness  Time Left\n",
      "   0    15.98 1.85210017338e+12       15  0.0842157176809              N/A     15.92s\n",
      "   1    12.43    7.15095796898       12   0.015894435143              N/A      2.03m\n",
      "   2     8.89    6.91570462251       14   0.015894435143              N/A      2.15m\n",
      "   3     5.07    7.99707920122       12   0.015894435143              N/A      1.95m\n",
      "   4     5.95    6.31794578548       12   0.015894435143              N/A      1.78m\n",
      "   5     6.76    13.0017315616        9   0.015894435143              N/A      1.67m\n",
      "   6      9.0    16.4877458375        9   0.015894435143              N/A      1.62m\n",
      "   7     9.09    18.2176682274        9   0.015894435143              N/A      1.62m\n",
      "   8     8.92      23.84773849        9   0.015894435143              N/A      1.59m\n",
      "   9      8.9    15.0723794926        9   0.015894435143              N/A      1.57m\n",
      "  10     9.01    18.0227109719        9   0.015894435143              N/A      1.54m\n",
      "  11     9.01    19.0082546843        9   0.015894435143              N/A      1.50m\n",
      "  12     8.95    20.6865083413        9   0.015894435143              N/A      1.46m\n",
      "  13      9.1    16.5456360949        9   0.015894435143              N/A      1.43m\n",
      "  14     9.04    18.3626792957        9   0.015894435143              N/A      1.40m\n",
      "  15     9.03    14.9808082863        9   0.015894435143              N/A      1.36m\n",
      "  16     9.11    17.4875091593        9   0.015894435143              N/A      1.33m\n",
      "  17     8.97     20.433590575        9   0.015894435143              N/A      1.29m\n",
      "  18      9.0    15.2723049712        9   0.015894435143              N/A      1.25m\n",
      "  19      8.9    17.4166235641        9   0.015894435143              N/A      1.22m\n",
      "  20     9.08    18.0869682634        9   0.015894435143              N/A      1.18m\n",
      "  21     8.82    19.3926626049        9   0.015894435143              N/A      1.14m\n",
      "  22     8.88    19.3160431556        9   0.015894435143              N/A      1.10m\n",
      "  23     9.04    19.8750529511        9   0.015894435143              N/A      1.06m\n",
      "  24      8.9    15.1643927316        9   0.015894435143              N/A      1.02m\n",
      "  25     8.84    21.1591626401        9   0.015894435143              N/A     58.49s\n",
      "  26     9.05    21.9606740877        9   0.015894435143              N/A     56.39s\n",
      "  27     8.91    20.2080522312        9   0.015894435143              N/A     54.19s\n",
      "  28     8.72    18.2365832875        9   0.015894435143              N/A     52.64s\n",
      "  29     8.93    19.1563172669        9   0.015894435143              N/A     50.09s\n",
      "  30     9.09    15.6467681831        9   0.015894435143              N/A     47.68s\n",
      "  31     8.94    19.5676498379        9   0.015894435143              N/A     45.06s\n",
      "  32     8.99    19.2923351843        9   0.015894435143              N/A     42.58s\n",
      "  33     8.96    21.2286142322        9   0.015894435143              N/A     40.09s\n",
      "  34     8.98    18.4479721211        9   0.015894435143              N/A     37.69s\n",
      "  35     8.81    18.8372271708        9   0.015894435143              N/A     35.17s\n",
      "  36     8.98    19.1280981658        9   0.015894435143              N/A     32.66s\n",
      "  37     8.97    18.1336198114        9   0.015894435143              N/A     30.12s\n",
      "  38     9.16    16.5278524024        9   0.015894435143              N/A     27.57s\n",
      "  39     9.07    19.0197792171        9   0.015894435143              N/A     25.12s\n",
      "  40     8.99    21.7473397857        9   0.015894435143              N/A     22.61s\n",
      "  41     8.89    18.7742472958        9   0.015894435143              N/A     20.13s\n",
      "  42     8.95    18.4009423047        9   0.015894435143              N/A     17.62s\n",
      "  43     9.09    20.2382203398        9   0.015894435143              N/A     15.11s\n",
      "  44     8.96    16.8699569396        9   0.015894435143              N/A     12.61s\n",
      "  45     8.95    17.3874831249        9   0.015894435143              N/A     10.09s\n",
      "  46     8.88    17.9939402412        9   0.015894435143              N/A      7.57s\n",
      "  47     9.08     19.987878164        9   0.015894435143              N/A      5.05s\n",
      "  48     8.96     18.391742612        9   0.015894435143              N/A      2.52s\n",
      "  49     9.03    17.5793418051        9   0.015894435143              N/A      0.00s\n"
     ]
    },
    {
     "data": {
      "text/plain": [
       "SymbolicRegressor(const_range=(0, 0),\n",
       "         function_set=('add', 'sub', 'mul', 'div', 'log', 'sin', 'cos', <gplearn.functions._Function object at 0x0000024727AB2E48>),\n",
       "         generations=50, init_depth=(2, 6), init_method='half and half',\n",
       "         max_samples=1.0,\n",
       "         metric=<gplearn.fitness._Fitness object at 0x0000024727BF1048>,\n",
       "         n_jobs=1, p_crossover=0.7, p_hoist_mutation=0.0,\n",
       "         p_point_mutation=0.0, p_point_replace=0.05,\n",
       "         p_subtree_mutation=0.0, parsimony_coefficient=0.01,\n",
       "         population_size=1000, random_state=0, stopping_criteria=0.0,\n",
       "         tournament_size=20, verbose=1, warm_start=False)"
      ]
     },
     "execution_count": 250,
     "metadata": {},
     "output_type": "execute_result"
    }
   ],
   "source": [
    "est_gp = gplearn.genetic.SymbolicRegressor(population_size=1000,\n",
    "                           generations=50,function_set=(\"add\",\"sub\",\"mul\",\"div\",\"log\",\"sin\",\"cos\",exp),metric=sae,stopping_criteria=0.00,\n",
    "                           p_crossover=0.7, p_subtree_mutation=0.0,\n",
    "                           p_hoist_mutation=0.00, p_point_mutation=0.0,\n",
    "                           max_samples=1.0, verbose=1,const_range=(0,0),\n",
    "                           parsimony_coefficient=0.01, random_state=0)\n",
    "est_gp.fit(X, Y.ravel())"
   ]
  },
  {
   "cell_type": "markdown",
   "metadata": {},
   "source": [
    "We can print the found function:"
   ]
  },
  {
   "cell_type": "code",
   "execution_count": 254,
   "metadata": {},
   "outputs": [
    {
     "name": "stdout",
     "output_type": "stream",
     "text": [
      "exp(mul(log(X0), cos(cos(div(X0, X0)))))\n"
     ]
    }
   ],
   "source": [
    "print (est_gp._program)"
   ]
  },
  {
   "cell_type": "markdown",
   "metadata": {},
   "source": [
    "# to finish!!!"
   ]
  },
  {
   "cell_type": "code",
   "execution_count": null,
   "metadata": {
    "collapsed": true
   },
   "outputs": [],
   "source": []
  }
 ],
 "metadata": {
  "kernelspec": {
   "display_name": "Python 3",
   "language": "python",
   "name": "python3"
  },
  "language_info": {
   "codemirror_mode": {
    "name": "ipython",
    "version": 3
   },
   "file_extension": ".py",
   "mimetype": "text/x-python",
   "name": "python",
   "nbconvert_exporter": "python",
   "pygments_lexer": "ipython3",
   "version": "3.6.1"
  }
 },
 "nbformat": 4,
 "nbformat_minor": 2
}
