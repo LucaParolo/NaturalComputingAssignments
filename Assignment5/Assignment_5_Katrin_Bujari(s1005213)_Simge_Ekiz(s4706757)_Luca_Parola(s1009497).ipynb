{
 "cells": [
  {
   "cell_type": "markdown",
   "metadata": {},
   "source": [
    "## Natural Computing Assignment 5 (Evolutionary Game Theory and Cellular Automata)\n",
    "####  Katrin Bujari(s1005213) Simge Ekiz(s4706757), Luca Parola(s1009497),"
   ]
  },
  {
   "cell_type": "markdown",
   "metadata": {},
   "source": [
    "### Question 1\n",
    "\n",
    "(Nash equilibria and ESS’s.) Find Nash equilibria and ESS’s for each of the following payoff matrices.\n",
    "<div><img src=\"images/nash.png\" width= 200 mm margin-top=200px;></div>\n"
   ]
  },
  {
   "cell_type": "markdown",
   "metadata": {},
   "source": [
    "**Solution**  \n",
    "Definition ”Nash equilibrium”, is a way of playing so that no player will benefit by switching to play any alternative strategy.  \n",
    "Definition ”ESS”: A pure ESS is a strategy that cannot be invaded by another strategy.\n",
    "\n",
    "A symmetric matrix can be simplified by writing only the payoffs of the row player, Above matrices can be represented as follows;    \n",
    "\n",
    "  \n",
    "<div><img src=\"images/nashquestion1.png\" width= 300 mm></div>\n",
    "\n",
    "#### a)\n",
    "**Nash equilibrium**  \n",
    "`In this case we have two Nash equilibrium. The upper-left cell (S,S) and the bottom-right cell (H,H) is a strict Nash equilibrium.`\n",
    "\n",
    "**ESS**  \n",
    "_For S;_  \n",
    "We start by supposing that for some very small positive number x;  \n",
    "- 1-x is a fraction of the population uses S and\n",
    "- x is a fraction of the population uses H\n",
    "\n",
    "What is the expected payoff to an organism playing S in a random interaction in this population?\n",
    "Expected payoff is; **1-x**  \n",
    "What is the expected payoff to an organism playing H in a random interaction in this population?\n",
    "Expected payoff is; **x**\n",
    "\n",
    "In this case, for small enough values of x the expected fitness of S in this population exceeds the expected fitness of H, so S is evolutionarily stable.\n",
    "\n",
    "_For H;_  \n",
    "We start by supposing that for some very small positive number x;\n",
    "- 1-x is a fraction of the population uses H and\n",
    "- x is a fraction of the population uses S\n",
    "\n",
    "What is the expected payoff to an organism playing H in a random interaction in this population?\n",
    "Expected payoff is; **1-x**  \n",
    "What is the expected payoff to an organism playing S in a random interaction in this population?\n",
    "Expected payoff is; **x**\n",
    "\n",
    "In this case, the expected fitness of H in this population exceeds the expected fitness of S, so H is evolutionarily stable.\n",
    "\n",
    "`Both S and H are ESSs, because neither can be invaded by the other. The strategy that dominates over time is the one that starts in the majority.`\n",
    "\n",
    "#### b)\n",
    "**Nash equilibrium**  \n",
    "`The upper-left cell (S,S) is Nash equilibrium.`  \n",
    "**ESS**  \n",
    "We apply the same method described above;\n",
    "If all population members are S, for small enough values of x the expected fitness of S in this population exceeds the expected fitness of H and all get a payoff of 1. Thus, S is evolutionarily stable.\n",
    "If all population members are H, for small enough of x, the fitness of S exceeds the fitness of H. Therefore, H is not evolutionarily stable strategy.  \n",
    "`S is a ESS, because it cannot be invaded by any other strategy.`\n",
    "\n",
    "#### c)   \n",
    "**Nash equilibrium**  \n",
    "`There are two Nash equilibria in this game (H,S) and (S,H).`  \n",
    "**ESS**   \n",
    "_For S;_  \n",
    "We start by supposing that for some very small positive number x;  \n",
    "- 1-x is a fraction of the population uses S and\n",
    "- x is a fraction of the population uses H\n",
    "\n",
    "the expected payoff to S is; (1-x)0 + -1(x) = **-x**  \n",
    "the expected payoff to H is; 1-x + -20x = **1-21x**\n",
    "\n",
    "For small enough values of x the expected fitness of S in this population does not exceed the expected fitness of H, so S is not evolutionarily stable.\n",
    "\n",
    "_For H;_  \n",
    "We start by supposing that for some very small positive number x;\n",
    "- 1-x is a fraction of the population uses H and\n",
    "- x is a fraction of the population uses S\n",
    "\n",
    "The expected payoff to H is; x + (1-x)-20 = **21x-20**  \n",
    "The expected payoff to S is; (1-x)-20 = **20x-20**  \n",
    "Thus, H is not evolutionarily stable.\n",
    "\n",
    "`Neither S nor H are ESSs.`\n"
   ]
  },
  {
   "cell_type": "markdown",
   "metadata": {},
   "source": [
    "#### d)  \n",
    "we can conclude that from the examples, If S is evolutionarily stable strategy, (S, S) is a Nash equilibrium.\n",
    "<img src=\"images/nashletter.png\">\n",
    "When we consider the payoff matrices in the question as the one above, we can say S is evolutionarily stable when \n",
    "a(1 − x) + bx > c(1 − x) + dx holds.\n",
    "We can conclude that condition for (S, S) to be a Nash equilibrium S is evolutionarily stable\n",
    "Also we can make inferences from the equation that S is evolutionarily stable when either   \n",
    "(i) a > c, or   \n",
    "(ii) a = c and b > d.  \n",
    "H is evolutionarily stable when either     \n",
    "(i) d > b, or     \n",
    "(ii) d = b and c > a.  \n",
    "\n",
    "Moreover, we see in the last question, an ESS is also a Nash equilibrium but this assumption does not hold the other way around, therefore an Nash equilibrium does not need to be an ESS.\n"
   ]
  },
  {
   "cell_type": "markdown",
   "metadata": {},
   "source": [
    "### Question 2  "
   ]
  },
  {
   "cell_type": "markdown",
   "metadata": {},
   "source": [
    "(Replicator Dynamics.) Consider the pairwise contest with actions A and B and payoff matrix.\n",
    "\n",
    "<img src=\"images/nashq2.png\" width=150 mm;>\n",
    "\n",
    "**a)** What are the Ess of this game?   \n",
    "**b)**\n",
    "Denote by x the fraction of the population using A.  \n",
    "     - i. Compute the expected payoff of (a player with) strategy A, of strategy B, and the total expected payoff of a player.  \n",
    "     - ii. Give the replicator dynamics equation for this game.  \n",
    "     - iii. Find the fixed points.  \n",
    "     - iv. Which fixed points are evolutionary end points? (Motivate your answer)  \n",
    "\n",
    "|  | A | B |\n",
    "|------|------|------|\n",
    "| **A** | 3,3 | 0,0 |\n",
    "| **B** | 0,0 | 1,1|  \n",
    "\n"
   ]
  },
  {
   "cell_type": "markdown",
   "metadata": {},
   "source": [
    "**Solution** \n",
    "#### a)\n",
    "A is ESS if,  \n",
    "(i) a ≥ c, or  \n",
    "(ii) a = c and b > P(B,B)   \n",
    "`3>0 Therefore, A is an ESS.`  \n",
    "     \n",
    "B is ESS if,  \n",
    "(i) d ≥ b  \n",
    "(ii) d = b then c > a  \n",
    "`Therefore, B is ESS.`  "
   ]
  },
  {
   "cell_type": "markdown",
   "metadata": {},
   "source": [
    "#### b)  \n",
    "Definition: The Law of Total Probability states that the payoff for a strategy is the sum of the payoffs for each outcome multiplied by the probability of each outcome.  \n",
    "**(i)**\n",
    "- x is a fraction of the population uses A\n",
    "- 1-x is a fraction of the population uses B  \n",
    "`the expected payoff of (a player with) strategy A is; EP(A) = 3x + 0(1-x) = ** 3x ** `   \n",
    "`the expected payoff of (a player with) strategy B is; EP(B) = 0(x) + (1-x) = ** 1 - x **`  \n",
    "\n",
    "`Total expected payoff of a player is x(3x) + (1-x)(1−x) = ** $4x^2 - 2x + 1$ **`   \n",
    "\n",
    "**(ii)**    \n",
    "The average expected payoff is AEP=  x(3x) + (1-x)(1−x) = $4x^2 - 2x + 1$\n",
    "In replicator dynamics, if Pr(S)=x (x is the frequency, the percentage, of S in the population), the dynamical equation (the equation ruling the behavior of the system through time) is:  \n",
    "D(x) = $(EP(A) - AEP)x$ =$(3x - 4x^2 + 2x - 1)*x$ = $(-4x^2 + 5x - 1)*x$ = $-4x^3 + 5x^2 - x $\n",
    "\n",
    "**(iii)**    \n",
    "**Fixed point** describe populations that are no longer evolving, that is, there is no change of strategies in time.\n",
    "\n",
    "Obviously, when D(x)=0 the frequency of A (that is, x) does not change. The values of x\n",
    "for which the frequency of S does not change are called “fixed points”. So, let us find the\n",
    "fixed points in our example, that is, let us find when\n",
    "D(x)=0  \n",
    "$(-4x^2 + 5x - 1)*x = 0$\n",
    "Fixed point are\n",
    "- x=0, \n",
    "- x=1 and \n",
    "- x=1/4  \n",
    "\n",
    "**(iv)**  \n",
    "\n",
    "We need to analyze the fixed points, if they are stable fixed points (a point in the neighbourhood will converge towards it) they are evolutionary end points.   \n",
    "For 0 < x < 1/4, D(x) < 0, so any population state of this kind evolves towards fixed point 0, where everyone uses strategy B. For 1/4 < x < 1, D(x) > 0, so any population state of this kind evolves towards fixed point 1, where everyone uses strategy A. So the fixed point at x = 0.25 is unstable, which automatically means that x = 0 and x = 1 are stable. Meaning that in x = 0, 1 are the two evolutionary end points. The stability of the fixed points can also be seen in Figure 1.\n",
    "\n",
    " \n"
   ]
  },
  {
   "cell_type": "code",
   "execution_count": 3,
   "metadata": {},
   "outputs": [
    {
     "name": "stdout",
     "output_type": "stream",
     "text": [
      "0.1 (Eq1) -0.054\n",
      "0.2 (Eq2) -0.03199999999999997\n",
      "0.3 (Eq3) 0.04199999999999998\n",
      "0.9 (Eq4) 0.23400000000000032\n"
     ]
    }
   ],
   "source": [
    "def func(x):\n",
    "    return (-4*(x*x*x)) + (5*(x*x)) - x\n",
    "print('0.1 (Eq1)', func(0.1))\n",
    "print('0.2 (Eq2)', func(0.2))\n",
    "print('0.3 (Eq3)', func(0.3))\n",
    "print('0.9 (Eq4)', func(0.9))"
   ]
  },
  {
   "cell_type": "code",
   "execution_count": 4,
   "metadata": {},
   "outputs": [
    {
     "data": {
      "image/png": "[encoded data removed]",
      "text/plain": [
       "<Figure size 432x288 with 1 Axes>"
      ]
     },
     "metadata": {},
     "output_type": "display_data"
    }
   ],
   "source": [
    "import matplotlib.pyplot as plt\n",
    "import numpy\n",
    "\n",
    "x = numpy.linspace(0,1,100) # 100 linearly spaced numbers\n",
    "y = func(x) # computing the values of func\n",
    "x1 = [0,0.25,1]\n",
    "y1 = [func(0),func(0.25),func(1)]\n",
    "\n",
    "plt.title('Figure 1')\n",
    "plt.plot(x, y)\n",
    "plt.plot(x, 100*[0])\n",
    "plt.plot(x, 100*[0])\n",
    "plt.plot(x1, y1, 'ro')\n",
    "plt.show()"
   ]
  },
  {
   "cell_type": "markdown",
   "metadata": {},
   "source": [
    "### Question 3"
   ]
  },
  {
   "cell_type": "code",
   "execution_count": null,
   "metadata": {},
   "outputs": [],
   "source": []
  },
  {
   "cell_type": "markdown",
   "metadata": {},
   "source": [
    "### Question 4"
   ]
  },
  {
   "cell_type": "code",
   "execution_count": null,
   "metadata": {},
   "outputs": [],
   "source": []
  },
  {
   "cell_type": "markdown",
   "metadata": {},
   "source": [
    "### Question 5"
   ]
  },
  {
   "cell_type": "markdown",
   "metadata": {},
   "source": [
    "<img src=\"images/q5_1.png\" width= 200mm ;>\n",
    "Consider the following sequence of states from a 1-D CA:  \n",
    "Use the format in the scheme below (that is, specify the row ‘New’) to describe two sets of rules able to generate this sequence of states.\n",
    "\n",
    "<img src=\"images/q5.png\" ;>"
   ]
  },
  {
   "cell_type": "markdown",
   "metadata": {},
   "source": [
    "Two kind of rule sets can generate these results; Rule 168, Rule 136.  Seven of the eight basic states are seen in the sequence of states, so seven of the eight rules can be inferred, but one rule could go either of two ways. \n",
    "The pictures below describes the two sets of rules."
   ]
  },
  {
   "cell_type": "markdown",
   "metadata": {},
   "source": [
    "<img src=\"images/ansq5_1.png\" ;>\n",
    "<img src=\"images/ansq5_2.png\" ;>"
   ]
  },
  {
   "cell_type": "markdown",
   "metadata": {},
   "source": [
    "### Question 6"
   ]
  },
  {
   "cell_type": "code",
   "execution_count": null,
   "metadata": {},
   "outputs": [],
   "source": []
  },
  {
   "cell_type": "code",
   "execution_count": null,
   "metadata": {},
   "outputs": [],
   "source": []
  },
  {
   "cell_type": "code",
   "execution_count": null,
   "metadata": {},
   "outputs": [],
   "source": []
  }
 ],
 "metadata": {
  "kernelspec": {
   "display_name": "Python 3",
   "language": "python",
   "name": "python3"
  },
  "language_info": {
   "codemirror_mode": {
    "name": "ipython",
    "version": 3
   },
   "file_extension": ".py",
   "mimetype": "text/x-python",
   "name": "python",
   "nbconvert_exporter": "python",
   "pygments_lexer": "ipython3",
   "version": "3.6.2"
  }
 },
 "nbformat": 4,
 "nbformat_minor": 2
}
